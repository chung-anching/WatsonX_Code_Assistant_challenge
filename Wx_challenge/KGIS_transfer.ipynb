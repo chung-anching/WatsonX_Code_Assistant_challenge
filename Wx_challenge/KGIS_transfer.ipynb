{
 "cells": [
  {
   "cell_type": "code",
   "execution_count": 9,
   "id": "6ad7412f",
   "metadata": {},
   "outputs": [],
   "source": [
    "import re\n",
    "import os\n",
    "folder_path = \"/Users/zhonganqing/Documents/ADDI_Knowledge_Transfer_2024/KGI/test/program拷貝3\"\n",
    "for filename in os.listdir(folder_path):   # filename = PANGR070_original.CBL\n",
    "    if filename.endswith(\".CBL\"):  # 只處理 .CBL 文件\n",
    "        file_path = os.path.join(folder_path, filename)\n",
    "\n",
    "        # 讀取原始文件，編碼為 Big5\n",
    "        with open(file_path, 'r', encoding='Big5', errors='ignore') as file:\n",
    "            lines = file.readlines()  # 讀取文件的每一行並存儲為字符串列表\n",
    "           \n",
    "        def remove_last_dot(line):\n",
    "            if line.rstrip().endswith('.'):  # 确保最后一个非空字符是.\n",
    "                index = line.rindex('.')  # 找到最后一个.的索引\n",
    "                line = line[:index] + ' ' + line[index + 1:]  # 用空格替换最后一个.\n",
    "            return line\n",
    "\n",
    "\n",
    "        lines[0] = remove_last_dot(lines[0])\n",
    "        \n",
    "\n",
    "        # 在這裡進行需要的修改，例如將 \"LOCAL-DATA\" 替換為 \"Sysin\"\n",
    "        for i in range(len(lines)):\n",
    "            if \"LOCAL-DATA\" in lines[i]:\n",
    "                lines[i] = lines[i].replace(\"LOCAL-DATA\", \"Sysin\", 1)\n",
    "            else:\n",
    "                continue\n",
    "                \n",
    "#        print(lines)\n",
    "        # 將修改後的內容寫回原文件，編碼為 utf-8\n",
    "#             print(file.readlines()[0:2])\n",
    "\n",
    "        with open(file_path, 'w', encoding=\"UTF-8\", errors='ignore') as file:    \n",
    "            file.writelines(lines)\n",
    "\n",
    "\n",
    "#         print(\"文件已成功修改並重新保存為 utf-8 編碼格式。\")"
   ]
  },
  {
   "cell_type": "code",
   "execution_count": null,
   "id": "a20ca867",
   "metadata": {},
   "outputs": [],
   "source": []
  }
 ],
 "metadata": {
  "kernelspec": {
   "display_name": "Python 3 (ipykernel)",
   "language": "python",
   "name": "python3"
  },
  "language_info": {
   "codemirror_mode": {
    "name": "ipython",
    "version": 3
   },
   "file_extension": ".py",
   "mimetype": "text/x-python",
   "name": "python",
   "nbconvert_exporter": "python",
   "pygments_lexer": "ipython3",
   "version": "3.11.3"
  }
 },
 "nbformat": 4,
 "nbformat_minor": 5
}
